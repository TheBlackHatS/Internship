{
 "cells": [
  {
   "cell_type": "markdown",
   "id": "353c4216",
   "metadata": {},
   "source": [
    "# CAR PRICE PREDICTION DATA COLLECTION"
   ]
  },
  {
   "cell_type": "code",
   "execution_count": 1,
   "id": "79e55340",
   "metadata": {},
   "outputs": [],
   "source": [
    "#importing required  liabraries\n",
    "import selenium\n",
    "import pandas as pd\n",
    "from selenium import webdriver\n",
    "import warnings\n",
    "warnings.filterwarnings('ignore')\n",
    "from selenium.common.exceptions import StaleElementReferenceException,NoSuchElementException\n",
    "from selenium.webdriver.common.by import By\n",
    "import time"
   ]
  },
  {
   "cell_type": "code",
   "execution_count": 2,
   "id": "e7e6ed19",
   "metadata": {},
   "outputs": [],
   "source": [
    "#connecting web driver\n",
    "driver=webdriver.Chrome(r'C:\\Users\\Ravishankar\\Documents\\chromedriver.exe')"
   ]
  },
  {
   "cell_type": "code",
   "execution_count": 3,
   "id": "6547e7e6",
   "metadata": {},
   "outputs": [],
   "source": [
    "#opening cardekho\n",
    "driver.get(\"https://www.cardekho.com/\")\n",
    "time.sleep(2)"
   ]
  },
  {
   "cell_type": "code",
   "execution_count": 4,
   "id": "72ccbf9a",
   "metadata": {},
   "outputs": [],
   "source": [
    "Used_cars=driver.find_element(By.XPATH,'//li[@data-slug=\"/usedCars\"]/a').get_attribute('href')\n",
    "driver.get(Used_cars)\n",
    "time.sleep(2)"
   ]
  },
  {
   "cell_type": "markdown",
   "id": "1c0ade21",
   "metadata": {},
   "source": [
    "#### collecting url for different cities\n"
   ]
  },
  {
   "cell_type": "code",
   "execution_count": 6,
   "id": "d98e97d3",
   "metadata": {},
   "outputs": [],
   "source": [
    "#Ahmedabad\n",
    "Ahmedabad=driver.find_element(By.XPATH,'//li[@data-slug=\"/used-cars+in+ahmedabad\"]/a').get_attribute('href')\n",
    "driver.get(Ahmedabad)\n",
    "time.sleep(2)"
   ]
  },
  {
   "cell_type": "code",
   "execution_count": 7,
   "id": "f36f6635",
   "metadata": {},
   "outputs": [
    {
     "name": "stderr",
     "output_type": "stream",
     "text": [
      "100%|████████████████████████████████████████████████████████████████████████████████| 300/300 [08:50<00:00,  1.77s/it]\n"
     ]
    }
   ],
   "source": [
    "from tqdm import tqdm\n",
    "for _ in tqdm(range(0,300)):\n",
    "    time.sleep(0.5)\n",
    "    driver.execute_script(\"window.scrollBy(0,1000)\",\"\")\n",
    "    time.sleep(1)\n",
    "    driver.execute_script(\"window.scrollBy(0,-350)\")"
   ]
  },
  {
   "cell_type": "code",
   "execution_count": 11,
   "id": "aaa3ab6d",
   "metadata": {},
   "outputs": [
    {
     "name": "stderr",
     "output_type": "stream",
     "text": [
      "100%|██████████████████████████████████████████████████████████████████████████████| 1480/1480 [00:52<00:00, 28.34it/s]\n"
     ]
    }
   ],
   "source": [
    "Car_url_ahmedabad = []\n",
    "car_url_ahmedabad = driver.find_elements(By.XPATH,'//h3[@class=\"title\"]/a')   \n",
    "for j in tqdm(range(len(car_url_ahmedabad))):\n",
    "    Car_url_ahmedabad.append(car_url_ahmedabad[j].get_attribute('href'))\n",
    "time.sleep(2)"
   ]
  },
  {
   "cell_type": "code",
   "execution_count": 13,
   "id": "60b79713",
   "metadata": {},
   "outputs": [
    {
     "data": {
      "text/plain": [
       "1480"
      ]
     },
     "execution_count": 13,
     "metadata": {},
     "output_type": "execute_result"
    }
   ],
   "source": [
    "len(Car_url_ahmedabad)"
   ]
  },
  {
   "cell_type": "code",
   "execution_count": 23,
   "id": "914d09aa",
   "metadata": {},
   "outputs": [],
   "source": [
    "#Bangalore\n",
    "Used_cars=driver.find_element(By.XPATH,'//li[@data-slug=\"/used-cars+in+bangalore\"]/a').get_attribute('href')\n",
    "driver.get(Used_cars)\n",
    "time.sleep(2)"
   ]
  },
  {
   "cell_type": "code",
   "execution_count": 24,
   "id": "937b5a1d",
   "metadata": {},
   "outputs": [
    {
     "name": "stderr",
     "output_type": "stream",
     "text": [
      "100%|████████████████████████████████████████████████████████████████████████████████| 500/500 [15:10<00:00,  1.82s/it]\n"
     ]
    }
   ],
   "source": [
    "from tqdm import tqdm\n",
    "for _ in tqdm(range(0,500)):\n",
    "    time.sleep(0.75)\n",
    "    driver.execute_script(\"window.scrollBy(0,1000)\",\"\")\n",
    "    time.sleep(1)\n",
    "    driver.execute_script(\"window.scrollBy(0,-350)\")"
   ]
  },
  {
   "cell_type": "code",
   "execution_count": 25,
   "id": "a332f092",
   "metadata": {},
   "outputs": [
    {
     "name": "stderr",
     "output_type": "stream",
     "text": [
      "100%|██████████████████████████████████████████████████████████████████████████████| 1040/1040 [00:24<00:00, 43.10it/s]\n"
     ]
    }
   ],
   "source": [
    "Car_url_Bangalore = []\n",
    "car_url_Bangalore = driver.find_elements(By.XPATH,'//h3[@class=\"title\"]/a')   \n",
    "for j in tqdm(range(len(car_url_Bangalore))):\n",
    "    Car_url_Bangalore.append(car_url_Bangalore[j].get_attribute('href'))\n",
    "time.sleep(2)"
   ]
  },
  {
   "cell_type": "code",
   "execution_count": 26,
   "id": "b8b4e936",
   "metadata": {},
   "outputs": [
    {
     "data": {
      "text/plain": [
       "1040"
      ]
     },
     "execution_count": 26,
     "metadata": {},
     "output_type": "execute_result"
    }
   ],
   "source": [
    "len(Car_url_Bangalore)"
   ]
  },
  {
   "cell_type": "code",
   "execution_count": 43,
   "id": "9a904a74",
   "metadata": {},
   "outputs": [],
   "source": [
    "#Chennai\n",
    "Used_cars=driver.find_element(By.XPATH,'//li[@data-slug=\"/used-cars+in+chennai\"]/a').get_attribute('href')\n",
    "driver.get(Used_cars)\n",
    "time.sleep(2)"
   ]
  },
  {
   "cell_type": "code",
   "execution_count": 44,
   "id": "85429935",
   "metadata": {},
   "outputs": [
    {
     "name": "stderr",
     "output_type": "stream",
     "text": [
      "100%|████████████████████████████████████████████████████████████████████████████████| 800/800 [28:31<00:00,  2.14s/it]\n"
     ]
    }
   ],
   "source": [
    "from tqdm import tqdm\n",
    "for _ in tqdm(range(0,800)):\n",
    "    time.sleep(1)\n",
    "    driver.execute_script(\"window.scrollBy(0,1000)\",\"\")\n",
    "    time.sleep(1)\n",
    "    driver.execute_script(\"window.scrollBy(0,-350)\")"
   ]
  },
  {
   "cell_type": "code",
   "execution_count": 45,
   "id": "df8b6e93",
   "metadata": {},
   "outputs": [
    {
     "name": "stderr",
     "output_type": "stream",
     "text": [
      "100%|█████████████████████████████████████████████████████████████████████████████| 1580/1580 [00:13<00:00, 114.03it/s]\n"
     ]
    }
   ],
   "source": [
    "Car_url_Chennai = []\n",
    "car_url_Chennai = driver.find_elements(By.XPATH,'//h3[@class=\"title\"]/a')   \n",
    "for j in tqdm(range(len(car_url_Chennai))):\n",
    "    Car_url_Chennai.append(car_url_Chennai[j].get_attribute('href'))\n",
    "time.sleep(2)"
   ]
  },
  {
   "cell_type": "code",
   "execution_count": 46,
   "id": "88e799ea",
   "metadata": {},
   "outputs": [
    {
     "data": {
      "text/plain": [
       "1580"
      ]
     },
     "execution_count": 46,
     "metadata": {},
     "output_type": "execute_result"
    }
   ],
   "source": [
    "len(Car_url_Chennai)"
   ]
  },
  {
   "cell_type": "code",
   "execution_count": 47,
   "id": "3ebd924b",
   "metadata": {},
   "outputs": [],
   "source": [
    "#Delhi-ncr\n",
    "Used_cars=driver.find_element(By.XPATH,'//li[@data-slug=\"/used-cars+in+delhi-ncr\"]/a').get_attribute('href')\n",
    "driver.get(Used_cars)\n",
    "time.sleep(2)"
   ]
  },
  {
   "cell_type": "code",
   "execution_count": 33,
   "id": "4558d317",
   "metadata": {},
   "outputs": [
    {
     "name": "stderr",
     "output_type": "stream",
     "text": [
      "100%|████████████████████████████████████████████████████████████████████████████████| 500/500 [16:44<00:00,  2.01s/it]\n"
     ]
    }
   ],
   "source": [
    "from tqdm import tqdm\n",
    "for _ in tqdm(range(0,500)):\n",
    "    time.sleep(0.75)\n",
    "    driver.execute_script(\"window.scrollBy(0,1000)\",\"\")\n",
    "    time.sleep(1)\n",
    "    driver.execute_script(\"window.scrollBy(0,-350)\")"
   ]
  },
  {
   "cell_type": "code",
   "execution_count": 34,
   "id": "eb56ed4c",
   "metadata": {},
   "outputs": [
    {
     "name": "stderr",
     "output_type": "stream",
     "text": [
      "100%|█████████████████████████████████████████████████████████████████████████████| 1660/1660 [00:15<00:00, 107.69it/s]\n"
     ]
    }
   ],
   "source": [
    "Car_url_Delhi = []\n",
    "car_url_Delhi = driver.find_elements(By.XPATH,'//h3[@class=\"title\"]/a')   \n",
    "for j in tqdm(range(len(car_url_Delhi))):\n",
    "    Car_url_Delhi.append(car_url_Delhi[j].get_attribute('href'))\n",
    "time.sleep(2)"
   ]
  },
  {
   "cell_type": "code",
   "execution_count": 57,
   "id": "8e82286b",
   "metadata": {},
   "outputs": [
    {
     "data": {
      "text/plain": [
       "1660"
      ]
     },
     "execution_count": 57,
     "metadata": {},
     "output_type": "execute_result"
    }
   ],
   "source": [
    "len(Car_url_Delhi)"
   ]
  },
  {
   "cell_type": "code",
   "execution_count": 53,
   "id": "39b1c399",
   "metadata": {},
   "outputs": [],
   "source": [
    "#Hyderabad\n",
    "Used_cars=driver.find_element(By.XPATH,'//li[@data-slug=\"/used-cars+in+hyderabad\"]/a').get_attribute('href')\n",
    "driver.get(Used_cars)\n",
    "time.sleep(2)"
   ]
  },
  {
   "cell_type": "code",
   "execution_count": 54,
   "id": "62162d7a",
   "metadata": {},
   "outputs": [
    {
     "name": "stderr",
     "output_type": "stream",
     "text": [
      "100%|████████████████████████████████████████████████████████████████████████████████| 300/300 [08:54<00:00,  1.78s/it]\n"
     ]
    }
   ],
   "source": [
    "from tqdm import tqdm\n",
    "for _ in tqdm(range(0,300)):\n",
    "    time.sleep(0.5)\n",
    "    driver.execute_script(\"window.scrollBy(0,1000)\",\"\")\n",
    "    time.sleep(1)\n",
    "    driver.execute_script(\"window.scrollBy(0,-350)\")"
   ]
  },
  {
   "cell_type": "code",
   "execution_count": 55,
   "id": "0289ea3b",
   "metadata": {},
   "outputs": [
    {
     "name": "stderr",
     "output_type": "stream",
     "text": [
      "100%|██████████████████████████████████████████████████████████████████████████████| 1620/1620 [00:34<00:00, 47.01it/s]\n"
     ]
    }
   ],
   "source": [
    "Car_url_Hyderabad = []\n",
    "car_url_Hyderabad = driver.find_elements(By.XPATH,'//h3[@class=\"title\"]/a')   \n",
    "for j in tqdm(range(len(car_url_Hyderabad))):\n",
    "    Car_url_Hyderabad.append(car_url_Hyderabad[j].get_attribute('href'))\n",
    "time.sleep(2)"
   ]
  },
  {
   "cell_type": "code",
   "execution_count": 56,
   "id": "587088b6",
   "metadata": {},
   "outputs": [
    {
     "data": {
      "text/plain": [
       "1620"
      ]
     },
     "execution_count": 56,
     "metadata": {},
     "output_type": "execute_result"
    }
   ],
   "source": [
    "len(Car_url_Hyderabad)"
   ]
  },
  {
   "cell_type": "code",
   "execution_count": 58,
   "id": "5d7adc46",
   "metadata": {},
   "outputs": [],
   "source": [
    "#Jaipur\n",
    "Used_cars=driver.find_element(By.XPATH,'//li[@data-slug=\"/used-cars+in+jaipur\"]/a').get_attribute('href')\n",
    "driver.get(Used_cars)\n",
    "time.sleep(2)"
   ]
  },
  {
   "cell_type": "code",
   "execution_count": 59,
   "id": "615a7522",
   "metadata": {},
   "outputs": [
    {
     "name": "stderr",
     "output_type": "stream",
     "text": [
      "100%|████████████████████████████████████████████████████████████████████████████████| 300/300 [08:28<00:00,  1.70s/it]\n"
     ]
    }
   ],
   "source": [
    "from tqdm import tqdm\n",
    "for _ in tqdm(range(0,300)):\n",
    "    time.sleep(0.5)\n",
    "    driver.execute_script(\"window.scrollBy(0,1000)\",\"\")\n",
    "    time.sleep(1)\n",
    "    driver.execute_script(\"window.scrollBy(0,-350)\")"
   ]
  },
  {
   "cell_type": "code",
   "execution_count": 60,
   "id": "c9c79bd0",
   "metadata": {},
   "outputs": [
    {
     "name": "stderr",
     "output_type": "stream",
     "text": [
      "100%|██████████████████████████████████████████████████████████████████████████████| 1200/1200 [00:23<00:00, 51.34it/s]\n"
     ]
    }
   ],
   "source": [
    "Car_url_Jaipur = []\n",
    "car_url_Jaipur = driver.find_elements(By.XPATH,'//h3[@class=\"title\"]/a')   \n",
    "for j in tqdm(range(len(car_url_Jaipur))):\n",
    "    Car_url_Jaipur.append(car_url_Jaipur[j].get_attribute('href'))\n",
    "time.sleep(2)"
   ]
  },
  {
   "cell_type": "code",
   "execution_count": 61,
   "id": "b7ec0608",
   "metadata": {},
   "outputs": [
    {
     "data": {
      "text/plain": [
       "1200"
      ]
     },
     "execution_count": 61,
     "metadata": {},
     "output_type": "execute_result"
    }
   ],
   "source": [
    "len(Car_url_Jaipur)"
   ]
  },
  {
   "cell_type": "code",
   "execution_count": 62,
   "id": "c48f428f",
   "metadata": {},
   "outputs": [],
   "source": [
    "Car_url=[]"
   ]
  },
  {
   "cell_type": "code",
   "execution_count": 63,
   "id": "59669cf5",
   "metadata": {},
   "outputs": [],
   "source": [
    "Car_url = Car_url_ahmedabad + Car_url_Bangalore + Car_url_Chennai + Car_url_Delhi + Car_url_Hyderabad + Car_url_Jaipur"
   ]
  },
  {
   "cell_type": "code",
   "execution_count": 64,
   "id": "47477033",
   "metadata": {},
   "outputs": [
    {
     "data": {
      "text/plain": [
       "8580"
      ]
     },
     "execution_count": 64,
     "metadata": {},
     "output_type": "execute_result"
    }
   ],
   "source": [
    "len(Car_url)"
   ]
  },
  {
   "cell_type": "code",
   "execution_count": 65,
   "id": "092fd0f1",
   "metadata": {},
   "outputs": [],
   "source": [
    "#creating dataframe\n",
    "Car_URL = pd.DataFrame({})\n",
    "Car_URL['Urls'] = Car_url"
   ]
  },
  {
   "cell_type": "code",
   "execution_count": 66,
   "id": "d8bc576f",
   "metadata": {},
   "outputs": [],
   "source": [
    "#exporting to excel\n",
    "Car_URL.to_excel('Car_url.xlsx', index = False)"
   ]
  },
  {
   "cell_type": "code",
   "execution_count": 2,
   "id": "b5317497",
   "metadata": {},
   "outputs": [],
   "source": [
    "#importing excel file containing url\n",
    "df = pd.read_excel('Car_url.xlsx')"
   ]
  },
  {
   "cell_type": "code",
   "execution_count": 3,
   "id": "5a1a471d",
   "metadata": {},
   "outputs": [
    {
     "data": {
      "text/plain": [
       "(8580, 1)"
      ]
     },
     "execution_count": 3,
     "metadata": {},
     "output_type": "execute_result"
    }
   ],
   "source": [
    "df.shape"
   ]
  },
  {
   "cell_type": "code",
   "execution_count": 4,
   "id": "d42b6bb9",
   "metadata": {},
   "outputs": [
    {
     "data": {
      "text/html": [
       "<div>\n",
       "<style scoped>\n",
       "    .dataframe tbody tr th:only-of-type {\n",
       "        vertical-align: middle;\n",
       "    }\n",
       "\n",
       "    .dataframe tbody tr th {\n",
       "        vertical-align: top;\n",
       "    }\n",
       "\n",
       "    .dataframe thead th {\n",
       "        text-align: right;\n",
       "    }\n",
       "</style>\n",
       "<table border=\"1\" class=\"dataframe\">\n",
       "  <thead>\n",
       "    <tr style=\"text-align: right;\">\n",
       "      <th></th>\n",
       "      <th>Urls</th>\n",
       "    </tr>\n",
       "  </thead>\n",
       "  <tbody>\n",
       "    <tr>\n",
       "      <th>0</th>\n",
       "      <td>https://www.cardekho.com/used-car-details/used...</td>\n",
       "    </tr>\n",
       "    <tr>\n",
       "      <th>1</th>\n",
       "      <td>https://www.cardekho.com/buy-used-car-details/...</td>\n",
       "    </tr>\n",
       "    <tr>\n",
       "      <th>2</th>\n",
       "      <td>https://www.cardekho.com/used-car-details/used...</td>\n",
       "    </tr>\n",
       "    <tr>\n",
       "      <th>3</th>\n",
       "      <td>https://www.cardekho.com/buy-used-car-details/...</td>\n",
       "    </tr>\n",
       "    <tr>\n",
       "      <th>4</th>\n",
       "      <td>https://www.cardekho.com/used-car-details/used...</td>\n",
       "    </tr>\n",
       "    <tr>\n",
       "      <th>...</th>\n",
       "      <td>...</td>\n",
       "    </tr>\n",
       "    <tr>\n",
       "      <th>8575</th>\n",
       "      <td>https://www.cardekho.com/used-car-details/used...</td>\n",
       "    </tr>\n",
       "    <tr>\n",
       "      <th>8576</th>\n",
       "      <td>https://www.cardekho.com/used-car-details/used...</td>\n",
       "    </tr>\n",
       "    <tr>\n",
       "      <th>8577</th>\n",
       "      <td>https://www.cardekho.com/used-car-details/used...</td>\n",
       "    </tr>\n",
       "    <tr>\n",
       "      <th>8578</th>\n",
       "      <td>https://www.cardekho.com/used-car-details/used...</td>\n",
       "    </tr>\n",
       "    <tr>\n",
       "      <th>8579</th>\n",
       "      <td>https://www.cardekho.com/used-car-details/used...</td>\n",
       "    </tr>\n",
       "  </tbody>\n",
       "</table>\n",
       "<p>8580 rows × 1 columns</p>\n",
       "</div>"
      ],
      "text/plain": [
       "                                                   Urls\n",
       "0     https://www.cardekho.com/used-car-details/used...\n",
       "1     https://www.cardekho.com/buy-used-car-details/...\n",
       "2     https://www.cardekho.com/used-car-details/used...\n",
       "3     https://www.cardekho.com/buy-used-car-details/...\n",
       "4     https://www.cardekho.com/used-car-details/used...\n",
       "...                                                 ...\n",
       "8575  https://www.cardekho.com/used-car-details/used...\n",
       "8576  https://www.cardekho.com/used-car-details/used...\n",
       "8577  https://www.cardekho.com/used-car-details/used...\n",
       "8578  https://www.cardekho.com/used-car-details/used...\n",
       "8579  https://www.cardekho.com/used-car-details/used...\n",
       "\n",
       "[8580 rows x 1 columns]"
      ]
     },
     "execution_count": 4,
     "metadata": {},
     "output_type": "execute_result"
    }
   ],
   "source": [
    "df"
   ]
  },
  {
   "cell_type": "code",
   "execution_count": 5,
   "id": "34c43e53",
   "metadata": {},
   "outputs": [],
   "source": [
    "#connecting web driver\n",
    "driver=webdriver.Chrome(r'C:\\Users\\Ravishankar\\Documents\\chromedriver.exe')"
   ]
  },
  {
   "cell_type": "code",
   "execution_count": 6,
   "id": "53688d86",
   "metadata": {},
   "outputs": [],
   "source": [
    "Location=[]\n",
    "Model=[]\n",
    "Registration_Year=[]\n",
    "Fuel_Type=[]\n",
    "Kms_Driven=[]\n",
    "Ownership=[]\n",
    "Transmission=[]\n",
    "Seats=[]\n",
    "Engine_Displacement=[]\n",
    "Year_of_Manufacture=[]\n",
    "Mileage=[]\n",
    "Max_Power=[]\n",
    "Wheel_Size=[]\n",
    "Torque=[]\n",
    "Price=[]\n"
   ]
  },
  {
   "cell_type": "code",
   "execution_count": 9,
   "id": "dd5823a9",
   "metadata": {},
   "outputs": [
    {
     "name": "stderr",
     "output_type": "stream",
     "text": [
      "100%|████████████████████████████████████████████████████████████████████████████████| 975/975 [25:30<00:00,  1.57s/it]\n"
     ]
    }
   ],
   "source": [
    "from tqdm import tqdm\n",
    "for i in tqdm(df['Urls'][7605:8580]):\n",
    "    driver.get(i)\n",
    "    time.sleep(0.5)\n",
    "    \n",
    "    # Extracting Car location via xpath\n",
    "    try :\n",
    "        loc = driver.find_element(By.XPATH,'/html/body/div[2]/div/div[1]/div/div/div/div[1]/div[2]/div[1]/div/div[1]')\n",
    "        Location.append(loc.text)  \n",
    "    except NoSuchElementException:\n",
    "        pass\n",
    "        \n",
    "    #extracting Model via xpath    \n",
    "    try :\n",
    "        model = driver.find_element(By.XPATH,'/html/body/div[2]/div/div[1]/div/div/div/div[1]/div[2]/div[1]/div/div[2]')\n",
    "        Model.append(model.text)  \n",
    "    except NoSuchElementException:\n",
    "        pass \n",
    "        \n",
    "   #extracting Registration_Year via xpath    \n",
    "    \n",
    "    try :\n",
    "        reg = driver.find_element(By.XPATH,'/html/body/div[2]/div/div[1]/div/div/div/div[1]/div[1]/div[3]/ul/li[1]/div/div/span')\n",
    "        Registration_Year.append(reg.text)  \n",
    "    except NoSuchElementException:\n",
    "        pass   \n",
    "        \n",
    "  #extracting Fuel_Type via xpath    \n",
    "   \n",
    "    try :\n",
    "        fuel = driver.find_element(By.XPATH,'/html/body/div[2]/div/div[1]/div/div/div/div[1]/div[1]/div[3]/ul/li[3]/div/div/span')\n",
    "        Fuel_Type.append(fuel.text)  \n",
    "    except NoSuchElementException:\n",
    "         pass  \n",
    "        \n",
    "  #extracting Kms_Driven via xpath    \n",
    "    \n",
    "    try :\n",
    "        kms = driver.find_element(By.XPATH,'/html/body/div[2]/div/div[1]/div/div/div/div[1]/div[1]/div[3]/ul/li[5]/div/div/span')\n",
    "        Kms_Driven.append(kms.text)  \n",
    "    except NoSuchElementException:\n",
    "         pass              \n",
    "        \n",
    " #extracting Ownership via xpath    \n",
    "    \n",
    "    try :\n",
    "        owner = driver.find_element(By.XPATH,'/html/body/div[2]/div/div[1]/div/div/div/div[1]/div[1]/div[3]/ul/li[7]/div/div/span')\n",
    "        Ownership.append(owner.text)  \n",
    "    except NoSuchElementException:\n",
    "         pass \n",
    "        \n",
    "#extracting Transmission via xpath    \n",
    "    \n",
    "    try :\n",
    "        transmission = driver.find_element(By.XPATH,'/html/body/div[2]/div/div[1]/div/div/div/div[1]/div[1]/div[3]/ul/li[9]/div/div/span')\n",
    "        Transmission.append(transmission.text)  \n",
    "    except NoSuchElementException:\n",
    "         pass  \n",
    "        \n",
    "#extracting Seats via xpath    \n",
    "    \n",
    "    try :\n",
    "        seats = driver.find_element(By.XPATH,'/html/body/div[2]/div/div[1]/div/div/div/div[1]/div[1]/div[5]/ul/li[6]/div/div/span')\n",
    "        Seats.append(seats.text)  \n",
    "    except NoSuchElementException:\n",
    "         pass  \n",
    "        \n",
    "#extracting Engine_Displacement via xpath    \n",
    "    \n",
    "    try :\n",
    "        engine = driver.find_element(By.XPATH,'/html/body/div[2]/div/div[1]/div/div/div/div[1]/div[1]/div[3]/ul/li[8]/div/div/span')\n",
    "        Engine_Displacement.append(engine.text)  \n",
    "    except NoSuchElementException:\n",
    "         pass  \n",
    "        \n",
    "#extracting Year_of_Manufacture via xpath    \n",
    "    \n",
    "    try :\n",
    "        year = driver.find_element(By.XPATH,'/html/body/div[2]/div/div[1]/div/div/div/div[1]/div[1]/div[3]/ul/li[10]/div/div/span')\n",
    "        Year_of_Manufacture.append(year.text)  \n",
    "    except NoSuchElementException:\n",
    "         pass \n",
    "        \n",
    "#extracting Mileage via xpath    \n",
    "    \n",
    "    try :\n",
    "        mileage = driver.find_element(By.XPATH,'/html/body/div[2]/div/div[1]/div/div/div/div[1]/div[1]/div[5]/ul/li[1]/div/div/span')\n",
    "        Mileage.append(mileage.text)  \n",
    "    except NoSuchElementException:\n",
    "         pass         \n",
    "        \n",
    "#extracting Max_Power via xpath    \n",
    "    \n",
    "    try :\n",
    "        power = driver.find_element(By.XPATH,'/html/body/div[2]/div/div[1]/div/div/div/div[1]/div[1]/div[5]/ul/li[3]/div/div/span')\n",
    "        Max_Power.append(power.text)  \n",
    "    except NoSuchElementException:\n",
    "         pass   \n",
    "        \n",
    "#extracting Wheel_Size via xpath    \n",
    "    \n",
    "    try :\n",
    "        wheel = driver.find_element(By.XPATH,'/html/body/div[2]/div/div[1]/div/div/div/div[1]/div[1]/div[5]/ul/li[5]/div/div/span')\n",
    "        Wheel_Size.append(wheel.text)  \n",
    "    except NoSuchElementException:\n",
    "         pass  \n",
    "        \n",
    "#extracting Torque via xpath    \n",
    "    \n",
    "    try :\n",
    "        torque = driver.find_element(By.XPATH,'/html/body/div[2]/div/div[1]/div/div/div/div[1]/div[1]/div[5]/ul/li[4]/div/div/span')\n",
    "        Torque.append(torque.text)  \n",
    "    except NoSuchElementException:\n",
    "         pass          \n",
    "        \n",
    "#extracting Price via xpath    \n",
    "    \n",
    "    try :\n",
    "        price = driver.find_element(By.XPATH,'/html/body/div[2]/div/div[1]/div/div/div/div[1]/div[2]/div[1]/div/div[4]/span')\n",
    "        Price.append(price.text)  \n",
    "    except NoSuchElementException:\n",
    "         pass                  "
   ]
  },
  {
   "cell_type": "code",
   "execution_count": 13,
   "id": "259f9c0d",
   "metadata": {},
   "outputs": [],
   "source": [
    "driver.close()"
   ]
  },
  {
   "cell_type": "code",
   "execution_count": 14,
   "id": "f3c698ff",
   "metadata": {},
   "outputs": [
    {
     "data": {
      "text/html": [
       "<div>\n",
       "<style scoped>\n",
       "    .dataframe tbody tr th:only-of-type {\n",
       "        vertical-align: middle;\n",
       "    }\n",
       "\n",
       "    .dataframe tbody tr th {\n",
       "        vertical-align: top;\n",
       "    }\n",
       "\n",
       "    .dataframe thead th {\n",
       "        text-align: right;\n",
       "    }\n",
       "</style>\n",
       "<table border=\"1\" class=\"dataframe\">\n",
       "  <thead>\n",
       "    <tr style=\"text-align: right;\">\n",
       "      <th></th>\n",
       "      <th>Location</th>\n",
       "      <th>Model</th>\n",
       "      <th>Registration Year</th>\n",
       "      <th>Fuel Type</th>\n",
       "      <th>Kms Driven</th>\n",
       "      <th>Ownership</th>\n",
       "      <th>Transmission</th>\n",
       "      <th>Seats</th>\n",
       "      <th>Engine Displacement</th>\n",
       "      <th>Manufacture year</th>\n",
       "      <th>Mileage</th>\n",
       "      <th>Max_Power</th>\n",
       "      <th>Wheel_Size</th>\n",
       "      <th>Torque</th>\n",
       "      <th>Price</th>\n",
       "    </tr>\n",
       "  </thead>\n",
       "  <tbody>\n",
       "    <tr>\n",
       "      <th>0</th>\n",
       "      <td>Makarba, Ahmedabad</td>\n",
       "      <td>2015 Audi Q3 2.0 TDI</td>\n",
       "      <td>Oct 2015</td>\n",
       "      <td>Diesel</td>\n",
       "      <td>65,000 Kms</td>\n",
       "      <td>First Owner</td>\n",
       "      <td>Automatic</td>\n",
       "      <td>5</td>\n",
       "      <td>1968 cc</td>\n",
       "      <td>2015</td>\n",
       "      <td>15.73 kmpl</td>\n",
       "      <td>174.33bhp</td>\n",
       "      <td>16</td>\n",
       "      <td>380Nm</td>\n",
       "      <td>₹ 17.25 Lakh</td>\n",
       "    </tr>\n",
       "    <tr>\n",
       "      <th>1</th>\n",
       "      <td>Naroda, Ahmedabad</td>\n",
       "      <td>2012 Maruti Swift VDI</td>\n",
       "      <td>May 2013</td>\n",
       "      <td>Diesel</td>\n",
       "      <td>70,598 Kms</td>\n",
       "      <td>First Owner</td>\n",
       "      <td>Manual</td>\n",
       "      <td>5</td>\n",
       "      <td>1248 cc</td>\n",
       "      <td>2012</td>\n",
       "      <td>22.9 kmpl</td>\n",
       "      <td>74bhp</td>\n",
       "      <td>14</td>\n",
       "      <td>190Nm</td>\n",
       "      <td>₹ 3.56 Lakh</td>\n",
       "    </tr>\n",
       "    <tr>\n",
       "      <th>2</th>\n",
       "      <td>Sardarnagar, Ahmedabad</td>\n",
       "      <td>2014 Maruti Swift DDiS VDI</td>\n",
       "      <td>Nov 2014</td>\n",
       "      <td>Diesel</td>\n",
       "      <td>66,000 Kms</td>\n",
       "      <td>First Owner</td>\n",
       "      <td>Manual</td>\n",
       "      <td>5</td>\n",
       "      <td>1248 cc</td>\n",
       "      <td>2014</td>\n",
       "      <td>28.4 kmpl</td>\n",
       "      <td>74bhp</td>\n",
       "      <td>5</td>\n",
       "      <td>190Nm</td>\n",
       "      <td>₹ 3.80 Lakh</td>\n",
       "    </tr>\n",
       "    <tr>\n",
       "      <th>3</th>\n",
       "      <td>Naroda, Ahmedabad</td>\n",
       "      <td>2017 Hyundai Grand i10 1.2 Kappa Sportz BSIV</td>\n",
       "      <td>May 2017</td>\n",
       "      <td>Petrol</td>\n",
       "      <td>47,975 Kms</td>\n",
       "      <td>Second Owner</td>\n",
       "      <td>Manual</td>\n",
       "      <td>5</td>\n",
       "      <td>1197 cc</td>\n",
       "      <td>2017</td>\n",
       "      <td>18.9 kmpl</td>\n",
       "      <td>81.86bhp</td>\n",
       "      <td>5</td>\n",
       "      <td>113.75nm</td>\n",
       "      <td>₹ 4.96 Lakh</td>\n",
       "    </tr>\n",
       "    <tr>\n",
       "      <th>4</th>\n",
       "      <td>Thaltej, Ahmedabad</td>\n",
       "      <td>2015 Honda Brio S MT</td>\n",
       "      <td>Dec 2015</td>\n",
       "      <td>Petrol</td>\n",
       "      <td>21,000 Kms</td>\n",
       "      <td>First Owner</td>\n",
       "      <td>Manual</td>\n",
       "      <td>5</td>\n",
       "      <td>1198 cc</td>\n",
       "      <td>2015</td>\n",
       "      <td>19.4 kmpl</td>\n",
       "      <td>86.8bhp</td>\n",
       "      <td>5</td>\n",
       "      <td>109Nm</td>\n",
       "      <td>₹ 3.90 Lakh</td>\n",
       "    </tr>\n",
       "  </tbody>\n",
       "</table>\n",
       "</div>"
      ],
      "text/plain": [
       "                 Location                                         Model  \\\n",
       "0      Makarba, Ahmedabad                          2015 Audi Q3 2.0 TDI   \n",
       "1       Naroda, Ahmedabad                         2012 Maruti Swift VDI   \n",
       "2  Sardarnagar, Ahmedabad                    2014 Maruti Swift DDiS VDI   \n",
       "3       Naroda, Ahmedabad  2017 Hyundai Grand i10 1.2 Kappa Sportz BSIV   \n",
       "4      Thaltej, Ahmedabad                          2015 Honda Brio S MT   \n",
       "\n",
       "  Registration Year Fuel Type  Kms Driven     Ownership Transmission Seats  \\\n",
       "0          Oct 2015    Diesel  65,000 Kms   First Owner    Automatic     5   \n",
       "1          May 2013    Diesel  70,598 Kms   First Owner       Manual     5   \n",
       "2          Nov 2014    Diesel  66,000 Kms   First Owner       Manual     5   \n",
       "3          May 2017    Petrol  47,975 Kms  Second Owner       Manual     5   \n",
       "4          Dec 2015    Petrol  21,000 Kms   First Owner       Manual     5   \n",
       "\n",
       "  Engine Displacement Manufacture year     Mileage  Max_Power Wheel_Size  \\\n",
       "0             1968 cc             2015  15.73 kmpl  174.33bhp         16   \n",
       "1             1248 cc             2012   22.9 kmpl      74bhp         14   \n",
       "2             1248 cc             2014   28.4 kmpl      74bhp          5   \n",
       "3             1197 cc             2017   18.9 kmpl   81.86bhp          5   \n",
       "4             1198 cc             2015   19.4 kmpl    86.8bhp          5   \n",
       "\n",
       "     Torque         Price  \n",
       "0     380Nm  ₹ 17.25 Lakh  \n",
       "1     190Nm   ₹ 3.56 Lakh  \n",
       "2     190Nm   ₹ 3.80 Lakh  \n",
       "3  113.75nm   ₹ 4.96 Lakh  \n",
       "4     109Nm   ₹ 3.90 Lakh  "
      ]
     },
     "execution_count": 14,
     "metadata": {},
     "output_type": "execute_result"
    }
   ],
   "source": [
    "data=list(zip(Location,Model,Registration_Year,Fuel_Type,Kms_Driven,Ownership,Transmission,Seats,Engine_Displacement,\n",
    "              Year_of_Manufacture,Mileage,Max_Power,Wheel_Size,Torque,Price))\n",
    "\n",
    "Car_Dataset=pd.DataFrame(data,columns=['Location','Model','Registration Year','Fuel Type','Kms Driven','Ownership',\n",
    "                                       'Transmission','Seats','Engine Displacement', 'Manufacture year','Mileage',\n",
    "                                       'Max_Power','Wheel_Size','Torque','Price'])\n",
    "\n",
    "pd.set_option('display.max_columns', None)\n",
    "Car_Dataset.head()"
   ]
  },
  {
   "cell_type": "code",
   "execution_count": 15,
   "id": "ebacfb31",
   "metadata": {},
   "outputs": [
    {
     "data": {
      "text/plain": [
       "(4933, 15)"
      ]
     },
     "execution_count": 15,
     "metadata": {},
     "output_type": "execute_result"
    }
   ],
   "source": [
    "Car_Dataset.shape"
   ]
  },
  {
   "cell_type": "code",
   "execution_count": 16,
   "id": "2305905b",
   "metadata": {},
   "outputs": [],
   "source": [
    "#exporting to excel\n",
    "Car_Dataset.to_excel('Car Dataset.xlsx',index=False)"
   ]
  },
  {
   "cell_type": "code",
   "execution_count": null,
   "id": "a75d6ff4",
   "metadata": {},
   "outputs": [],
   "source": []
  }
 ],
 "metadata": {
  "kernelspec": {
   "display_name": "Python 3 (ipykernel)",
   "language": "python",
   "name": "python3"
  },
  "language_info": {
   "codemirror_mode": {
    "name": "ipython",
    "version": 3
   },
   "file_extension": ".py",
   "mimetype": "text/x-python",
   "name": "python",
   "nbconvert_exporter": "python",
   "pygments_lexer": "ipython3",
   "version": "3.9.7"
  }
 },
 "nbformat": 4,
 "nbformat_minor": 5
}
