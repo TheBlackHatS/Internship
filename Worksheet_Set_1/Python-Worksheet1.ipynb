{
 "cells": [
  {
   "cell_type": "markdown",
   "id": "96895469",
   "metadata": {},
   "source": [
    "#                                   PYTHON-WORKSHEET1"
   ]
  },
  {
   "cell_type": "markdown",
   "id": "d9e22026",
   "metadata": {},
   "source": [
    "Ans:- 11"
   ]
  },
  {
   "cell_type": "code",
   "execution_count": 92,
   "id": "94c68a6b",
   "metadata": {},
   "outputs": [
    {
     "name": "stdout",
     "output_type": "stream",
     "text": [
      "Enter Number6\n",
      "factorial of entered number 6 is 720 \n"
     ]
    }
   ],
   "source": [
    "import math\n",
    "x=int(input('Enter Number'))\n",
    "print('factorial of entered number {} is {} '.format(x,math.factorial(x)))\n"
   ]
  },
  {
   "cell_type": "markdown",
   "id": "1b350de7",
   "metadata": {},
   "source": [
    "Ans:- 12"
   ]
  },
  {
   "cell_type": "code",
   "execution_count": 73,
   "id": "273c3abc",
   "metadata": {},
   "outputs": [
    {
     "name": "stdout",
     "output_type": "stream",
     "text": [
      "Enter any Number8\n",
      "Entered number is composite\n"
     ]
    }
   ],
   "source": [
    "x=int(input('Enter any Number'))\n",
    "if(x==0 or x==1):\n",
    "    print(\"Entered number is neither Prime nor Composite\")\n",
    "elif x>1:\n",
    "    for i in range(2,x):\n",
    "        if (x%i==0):\n",
    "            print(\"Entered number is composite\")\n",
    "            break\n",
    "    else:\n",
    "        print(\"Entered number is prime\")\n",
    "            \n",
    "else:\n",
    "      print(\"Enter any positive Number\")\n",
    "                    \n",
    "    "
   ]
  },
  {
   "cell_type": "markdown",
   "id": "198d91d0",
   "metadata": {},
   "source": [
    "Ans:-13"
   ]
  },
  {
   "cell_type": "code",
   "execution_count": 3,
   "id": "a7c65acc",
   "metadata": {},
   "outputs": [
    {
     "name": "stdout",
     "output_type": "stream",
     "text": [
      "enter a string:malayalam\n",
      "entered string is palindrome\n"
     ]
    }
   ],
   "source": [
    "x=input(\"enter a string:\")\n",
    "if(x==x[::-1]):\n",
    "    print(\"entered string is palindrome\")\n",
    "else:\n",
    "    print(\"entered string is not palindrome\")\n",
    "    "
   ]
  },
  {
   "cell_type": "markdown",
   "id": "39d0a5ca",
   "metadata": {},
   "source": [
    "Ans:-14"
   ]
  },
  {
   "cell_type": "code",
   "execution_count": 5,
   "id": "ad4856a1",
   "metadata": {},
   "outputs": [
    {
     "name": "stdout",
     "output_type": "stream",
     "text": [
      "enter first side of right angel traingle6\n",
      "enter second side of right angel traingle8\n",
      "third side of right angel traingle is 10.0\n"
     ]
    }
   ],
   "source": [
    "from math import sqrt\n",
    "x=float(input(\"enter first side of right angel traingle\"))\n",
    "y=float(input(\"enter second side of right angel traingle\"))\n",
    "z=sqrt(x**2+y**2)\n",
    "print(\"third side of right angel traingle is\",z)"
   ]
  },
  {
   "cell_type": "markdown",
   "id": "6438e4b9",
   "metadata": {},
   "source": [
    "Ans:-15"
   ]
  },
  {
   "cell_type": "code",
   "execution_count": 10,
   "id": "3f37f323",
   "metadata": {},
   "outputs": [
    {
     "name": "stdout",
     "output_type": "stream",
     "text": [
      "enter a string:datascience\n",
      "frequency of each character in entered string: {'d': 1, 'a': 2, 't': 1, 's': 1, 'c': 2, 'i': 1, 'e': 2, 'n': 1}\n"
     ]
    }
   ],
   "source": [
    "x=input(\"enter a string:\")\n",
    "freq={}\n",
    "for i in x:\n",
    "    if i in freq:\n",
    "        freq[i]=freq[i]+1\n",
    "    else:\n",
    "        freq[i]=1\n",
    "        \n",
    "print(\"frequency of each character in entered string:\",freq)\n",
    "            "
   ]
  }
 ],
 "metadata": {
  "kernelspec": {
   "display_name": "Python 3 (ipykernel)",
   "language": "python",
   "name": "python3"
  },
  "language_info": {
   "codemirror_mode": {
    "name": "ipython",
    "version": 3
   },
   "file_extension": ".py",
   "mimetype": "text/x-python",
   "name": "python",
   "nbconvert_exporter": "python",
   "pygments_lexer": "ipython3",
   "version": "3.9.7"
  }
 },
 "nbformat": 4,
 "nbformat_minor": 5
}
